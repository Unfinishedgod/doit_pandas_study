{
 "cells": [
  {
   "cell_type": "markdown",
   "metadata": {},
   "source": [
    "# Special\n",
    "\n",
    "### 성능 향상 시키기 \n",
    "\n",
    "프로그램을 만들때는 우선 원하는 기능이 잘 동작하는 코드를 작성한다. 그럼 다음 좀 더 효율적으로 프로그램이 실행될 수 있도록 코드를 최적화해야 한다. 이번에는 판다스와 함께 사용하여 성능을 향상시킬 수 있는 cython, numba 라이브러리에 대해 알아보자.\n",
    "\n",
    "### 코드 성능 향상지켜 실행시간 측정 - timeit\n",
    "\n",
    "timeit은 표현식의 실행시간을 측정할 때 사용하는 '파이썬 문장'이다. timeit은 실행 시간을 측정해야 하는 코드 앞에 '%%timeit'이라고 작성하면 된다. 이 문장은 주로 성능을 저하시키는 부분이 어떤 곳인지 확인하기 위해 자주 사용한다. \n",
    "\n",
    "#### 1. \n",
    "다음은 판다스와 넘파이 라이브러리를 불러온 다음 데이터프레임을 생성하고 avg_2_apply함수를 정의 한 것이다."
   ]
  },
  {
   "cell_type": "code",
   "execution_count": 2,
   "metadata": {},
   "outputs": [],
   "source": [
    "import pandas as pd\n",
    "import numpy as np\n",
    "\n",
    "df = pd.DataFrame({'a': [10,20,30], 'b': [20,30,40]})\n",
    "\n",
    "def avg_2_apply(row):\n",
    "    x = row[0]\n",
    "    y = row[1]\n",
    "    if (x == 20):\n",
    "        return np.nan\n",
    "    else:\n",
    "        return (x + y) / 2\n",
    "    "
   ]
  },
  {
   "cell_type": "markdown",
   "metadata": {},
   "source": [
    "#### 2. 판다스 데이터프레임 - 실행 시간 측정\n",
    "\n",
    "이제 timeit으로 실행 시간을 측정해 보자. 실행시간을 측정하고 하는 코드 바로 위에 %%timeit이라고 작성한다. 결과를 확인하면 avg_2_apply 함수를 총 1000회 반복해서 실행하였으며 실행시간은 333마이크로초라는것을 알 수 있다. "
   ]
  },
  {
   "cell_type": "code",
   "execution_count": 3,
   "metadata": {},
   "outputs": [
    {
     "name": "stdout",
     "output_type": "stream",
     "text": [
      "279 µs ± 909 ns per loop (mean ± std. dev. of 7 runs, 1000 loops each)\n"
     ]
    }
   ],
   "source": [
    "%%timeit\n",
    "df.apply(avg_2_apply, axis=1)"
   ]
  },
  {
   "cell_type": "markdown",
   "metadata": {},
   "source": [
    "#### 3. \n",
    "넘파이로 벡터화한 함수 아용 - 실행 시간 측정\n",
    "넘파이로 함수를 벡터화한 다음 실행 시간을 측정 해보자. "
   ]
  },
  {
   "cell_type": "code",
   "execution_count": 6,
   "metadata": {},
   "outputs": [],
   "source": [
    "@np.vectorize\n",
    "\n",
    "def v_avg_2_mod(x,y):\n",
    "    if (x == 20):\n",
    "        return(np.NaN)\n",
    "    else:\n",
    "        return (x + y) / 2"
   ]
  },
  {
   "cell_type": "markdown",
   "metadata": {},
   "source": [
    "#### 4. \n",
    "다음은 v_avg_2_mod 함수의 실행 시간을 측정한 결과이다. 결과를 보면 v_avg_2_mod 함수를 총 10000회 반복해서 실행하였으며 실행시간은 약 62.1마이크로초라는 것을 알 수 있다."
   ]
  },
  {
   "cell_type": "code",
   "execution_count": 7,
   "metadata": {},
   "outputs": [
    {
     "name": "stdout",
     "output_type": "stream",
     "text": [
      "36.8 µs ± 303 ns per loop (mean ± std. dev. of 7 runs, 10000 loops each)\n"
     ]
    }
   ],
   "source": [
    "%%timeit\n",
    "v_avg_2_mod(df['a'], df['b'])"
   ]
  }
 ],
 "metadata": {
  "kernelspec": {
   "display_name": "Python 3",
   "language": "python",
   "name": "python3"
  },
  "language_info": {
   "codemirror_mode": {
    "name": "ipython",
    "version": 3
   },
   "file_extension": ".py",
   "mimetype": "text/x-python",
   "name": "python",
   "nbconvert_exporter": "python",
   "pygments_lexer": "ipython3",
   "version": "3.6.9"
  }
 },
 "nbformat": 4,
 "nbformat_minor": 4
}
