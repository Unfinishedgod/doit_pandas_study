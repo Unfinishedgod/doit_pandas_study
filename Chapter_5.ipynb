{
 "cells": [
  {
   "cell_type": "markdown",
   "metadata": {},
   "source": [
    "# Chapter 5 데이터 연결하기\n",
    "\n",
    "이번에는 분석하기 좋은 데이터 집합을 만들기 위한 데이터 전처리를 알아보자.\n",
    "\n",
    "## 5-1 분석하기 좋은 데이터 \n",
    "\n",
    "### 분석하기 좋은 데이터란?\n",
    "분석하기 좋은 데이터란 데이터 집합을 분석하기 좋은 상태로 만들어 놓은 것을 의미한다. 데이터 분석 단계에서 데이터 정리는 아주 중요한데, 실제로 데이터 분석 작업의 70%이상을 차지 하고 있는 작업이 데이터 천처리 이기 때문이다. 분석하기 좋은 데이터는 다음 조건을 만족해야 하며 이 조건을 만족하는 데이터를 Tidy Data라고 부른다.\n",
    "\n",
    "#### 깔끔한 데이터의 조건\n",
    "\n",
    " - 데이터 분석 목적에 맞는 데이터를 모아 새로운 Table을 만든다.\n",
    " - 측정한 값은 "
   ]
  }
 ],
 "metadata": {
  "kernelspec": {
   "display_name": "Python 3",
   "language": "python",
   "name": "python3"
  },
  "language_info": {
   "codemirror_mode": {
    "name": "ipython",
    "version": 3
   },
   "file_extension": ".py",
   "mimetype": "text/x-python",
   "name": "python",
   "nbconvert_exporter": "python",
   "pygments_lexer": "ipython3",
   "version": "3.6.9"
  }
 },
 "nbformat": 4,
 "nbformat_minor": 4
}
