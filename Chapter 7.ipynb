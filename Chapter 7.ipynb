{
 "cells": [
  {
   "cell_type": "markdown",
   "metadata": {},
   "source": [
    "# Chapter 7 깔끔한 데이터\n",
    "\n",
    "이번에는 깔끔한 데이터를 만드는 과정에 대해 알아보자. 목차는 다음과 같다.\n",
    "\n",
    " - 7-1: 열과 피벗\n",
    " - 7-2: 열 이름 관리하기\n",
    " - 7-3: 여러 열을 하나로 정리하기\n",
    " - 7-4: 중복 데이터 처리하기 \n",
    " - 7-5: 대용량 데이터 처리하기\n",
    " \n",
    " ## 7-1  열과 피벗\n",
    " \n",
    " ### 넓은 데이터\n",
    " \n",
    " 데이터프레임의 열은 파이썬의 변수와 비슷한 역할을 한다. 예를 들어 ebola 데이터프레임 열은 사망한 날짜, 발병 국가 등의 데이터를 저장하고 있다. 하지만 이번에 다루는 데이터프레임의 열은 열 자체가 어떤 값을 의미 한다. 그러다 보니 데이터프레임의 열이 옆으로 길게 늘어선 형태가 되는데 이를 넓은 데이터라고 한다. 7장에서는 넓은 데이터를 사용해 다양한 실습을 진행할 것이다. 이를 알아보기 위해서는 melt 메서드를 먼저 알아보자. \n",
    " \n",
    " #### melt 메서드\n",
    " 판다스는 데이터프레임을 깔끔한 데이터로 정리하는데 유용한 melt 메서드를 제공한다. melt 메서드는 지정한 열의 데이터를 모두 행으로 정리해 준다. 다음은 melt 메서드를 실슴할 때 사용할 인자를 정리한 표이다. 본격적인 실습을 진행하기 전에 다음의 메서드 Table을 확인해보자. \n",
    " \n",
    " \n",
    "|메서드 인자|설명|\n",
    "|:-:|:-:|\n",
    "|id_vars|위치를 그대로 유지할 열의 이름을 지정|\n",
    "|value_vars|행으로 위치를 변경할 열의 이름을 지정|\n",
    "|var_name|value_vars로 위치를 변경한 열의 이름을 지정|\n",
    "|valu_name|var_name으로 위치를 변경한 열의 데이터를 저장한 열의 이름을 지정|\n",
    "\n",
    "### melt 메서드 사용\n",
    "\n",
    "#### 1. 1개의 열만 고정하고 나버지 열을 행으로 바꾸기"
   ]
  },
  {
   "cell_type": "markdown",
   "metadata": {},
   "source": []
  }
 ],
 "metadata": {
  "kernelspec": {
   "display_name": "Python 3",
   "language": "python",
   "name": "python3"
  },
  "language_info": {
   "codemirror_mode": {
    "name": "ipython",
    "version": 3
   },
   "file_extension": ".py",
   "mimetype": "text/x-python",
   "name": "python",
   "nbconvert_exporter": "python",
   "pygments_lexer": "ipython3",
   "version": "3.6.9"
  }
 },
 "nbformat": 4,
 "nbformat_minor": 4
}
