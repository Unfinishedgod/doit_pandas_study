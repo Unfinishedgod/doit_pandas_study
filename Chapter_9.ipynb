{
 "cells": [
  {
   "cell_type": "markdown",
   "metadata": {},
   "source": [
    "<img src=\"http://image.yes24.com/goods/64625506/800x0\" width=\"200\" height=\"200\"><br>"
   ]
  },
  {
   "cell_type": "markdown",
   "metadata": {},
   "source": [
    "# Chapter 9 문자열 처리하기\n",
    "\n",
    "판다스에서 다루는 데이터의 대부분은 문자열로 저장되어 있다. 어떤 경우에는 정수, 실수와 같은 숫자 데이터도 문자열로 저장된다.이번에는 판다스가 아니라 파이썬으로 문자열을 처리하는 방법에 대해 알아보자. 목차는 다음과 같다. \n",
    "\n",
    " - 9-1: 문자열 다루기 \n",
    " - 9-2: 문자열 메서드\n",
    " - 9-3: 문자열 포메팅\n",
    " - 9-4: 정규식으로 문자열 처리에 날개 달기\n",
    " \n",
    "## 9-2 문자열 다루기\n",
    "\n",
    "### 파이썬과 문자열 \n",
    "문자열은 작은따옴표나 큰따옴표로 감싸서 만든다. 다음은 작은따옴표로 grail, a acratch라는 문자열 데이터를 만들어 변수 word, sent에 저장한 것이다. "
   ]
  },
  {
   "cell_type": "code",
   "execution_count": 1,
   "metadata": {},
   "outputs": [],
   "source": [
    "word = 'grail'\n",
    "sent = 'a scratch'"
   ]
  },
  {
   "cell_type": "markdown",
   "metadata": {},
   "source": [
    "### 인덱스로 문자열 추출하기 \n",
    "데이터프레임에서 인덱스를 이용하여 원하는 데이터를 추출했던 것을 기억하자. 문자열도 인덱스를 사용하여 추출할 수 있다. 문자는 길이가 1인 문자열로 생각하면 된다.\n",
    "\n",
    "### 문자열 추출하기\n",
    "\n",
    "#### 1. \n",
    "\n",
    "각 문자열의 첫 번째 문자는 오른쪽과 같은 방법으로 추출 한다. "
   ]
  },
  {
   "cell_type": "code",
   "execution_count": 3,
   "metadata": {},
   "outputs": [
    {
     "name": "stdout",
     "output_type": "stream",
     "text": [
      "g\n",
      "a\n"
     ]
    }
   ],
   "source": [
    "word = 'grail'\n",
    "sent = 'a scratch'\n",
    "\n",
    "print(word[0])\n",
    "\n",
    "print(sent[0])"
   ]
  },
  {
   "cell_type": "markdown",
   "metadata": {},
   "source": [
    "#### 2. \n",
    "인덱스 슬라이싱을 사용하면 여러 개의 문자를 한 번에 추출할 수 있습니다. 오른쪽은 인덱스 슬라이싱을 사용하여 0~2번째 인덱스의 문자를 추출한 것인다. 이때 대괄호에 지정한 왼쪽 범위는 포함하고 오른쪽 범위는 포함하지 않는다. 즉, 인덱스가 0,1,2인 문자를 추출한다. "
   ]
  },
  {
   "cell_type": "code",
   "execution_count": null,
   "metadata": {},
   "outputs": [],
   "source": []
  }
 ],
 "metadata": {
  "kernelspec": {
   "display_name": "Python 3",
   "language": "python",
   "name": "python3"
  },
  "language_info": {
   "codemirror_mode": {
    "name": "ipython",
    "version": 3
   },
   "file_extension": ".py",
   "mimetype": "text/x-python",
   "name": "python",
   "nbconvert_exporter": "python",
   "pygments_lexer": "ipython3",
   "version": "3.6.9"
  }
 },
 "nbformat": 4,
 "nbformat_minor": 4
}
