{
 "cells": [
  {
   "cell_type": "markdown",
   "metadata": {},
   "source": [
    "<img src=\"https://image.aladin.co.kr/product/16902/16/cover500/k202534274_1.jpg\" width=\"200\" height=\"200\"><br>"
   ]
  },
  {
   "cell_type": "markdown",
   "metadata": {},
   "source": [
    "# Chapter 9 문자열 처리하기\n",
    "\n",
    "판다스에서 다루는 데이터의 대부분은 문자열로 저장되어 있다. 어떤 경우에는 정수, 실수와 같은 숫자 데이터도 문자열로 저장된다.이번에는 판다스가 아니라 파이썬으로 문자열을 처리하는 방법에 대해 알아보자. 목차는 다음과 같다. \n",
    "\n",
    " - 9-1: 문자열 다루기 \n",
    " - 9-2: 문자열 메서드\n",
    " - 9-3: 문자열 포메팅\n",
    " - 9-4: 정규식으로 문자열 처리에 날개 달기\n",
    " \n",
    "## 9-2 문자열 다루기\n",
    "\n",
    "### 파이썬과 문자열 \n",
    "문자열은 작은따옴표나 큰따옴표로 감싸서 만든다. 다음은 작은따옴표로 grail, a acratch라는 문자열 데이터를 만들어 변수 word, sent에 저장한 것이다. "
   ]
  },
  {
   "cell_type": "code",
   "execution_count": 1,
   "metadata": {},
   "outputs": [],
   "source": [
    "word = 'grail'\n",
    "sent = 'a scratch'"
   ]
  },
  {
   "cell_type": "markdown",
   "metadata": {},
   "source": [
    "### 인덱스로 문자열 추출하기 \n",
    "데이터프레임에서 인덱스를 이용하여 원하는 데이터를 추출했던 것을 기억하자. 문자열도 인덱스를 사용하여 추출할 수 있다. 문자는 길이가 1인 문자열로 생각하면 된다.\n",
    "\n",
    "### 문자열 추출하기\n",
    "\n",
    "#### 1. \n",
    "\n",
    "각 문자열의 첫 번째 문자는 오른쪽과 같은 방법으로 추출 한다. "
   ]
  },
  {
   "cell_type": "code",
   "execution_count": 3,
   "metadata": {},
   "outputs": [
    {
     "name": "stdout",
     "output_type": "stream",
     "text": [
      "g\n",
      "a\n"
     ]
    }
   ],
   "source": [
    "word = 'grail'\n",
    "sent = 'a scratch'\n",
    "\n",
    "print(word[0])\n",
    "\n",
    "print(sent[0])"
   ]
  },
  {
   "cell_type": "markdown",
   "metadata": {},
   "source": [
    "#### 2. \n",
    "인덱스 슬라이싱을 사용하면 여러 개의 문자를 한 번에 추출할 수 있습니다. 오른쪽은 인덱스 슬라이싱을 사용하여 0~2번째 인덱스의 문자를 추출한 것인다. 이때 대괄호에 지정한 왼쪽 범위는 포함하고 오른쪽 범위는 포함하지 않는다. 즉, 인덱스가 0,1,2인 문자를 추출한다. "
   ]
  },
  {
   "cell_type": "code",
   "execution_count": 5,
   "metadata": {},
   "outputs": [
    {
     "name": "stdout",
     "output_type": "stream",
     "text": [
      "gra\n"
     ]
    }
   ],
   "source": [
    "print(word[0:3])\n"
   ]
  },
  {
   "cell_type": "markdown",
   "metadata": {},
   "source": [
    "#### 3. \n",
    "음수를 사용해도 문자열을 추출할 수 있다. 만약 인덱스를 -1로 지정하여 문자열을 추출하면 마지막 문자가 추출이 된다. 다음은 다양한 방법으로 음수 범위의 인덱스 슬라이싱을 한 것이다."
   ]
  },
  {
   "cell_type": "code",
   "execution_count": 6,
   "metadata": {},
   "outputs": [
    {
     "name": "stdout",
     "output_type": "stream",
     "text": [
      "h\n",
      "a\n",
      "a\n"
     ]
    }
   ],
   "source": [
    "print(sent[-1])\n",
    "\n",
    "print(sent[-9:-8])\n",
    "\n",
    "print(sent[0:-8])"
   ]
  },
  {
   "cell_type": "markdown",
   "metadata": {},
   "source": [
    "### 전체 문자열 추출하기 \n",
    "왼쪽 범위가 비어 있으면 문자열의 첫 번째 위치부터 문자열을 추출한다. 반대로 오른쪽 범위가 비어 있으면 문자열의 마지막 위치까지 문자열을 추출한다. 즉, word[0:3]과 word[:3]은 같은 범위의 문자열을 추출한다. 다음을 보자.\n",
    "\n",
    "\n",
    "### 왼쪽이나 오른쪽 범위를 지정하지 않고 문자열 추출하기\n",
    "\n",
    "#### 1. \n",
    "왼쪽 범위를 비우고 문자열을 추출해보자."
   ]
  },
  {
   "cell_type": "code",
   "execution_count": 7,
   "metadata": {},
   "outputs": [
    {
     "name": "stdout",
     "output_type": "stream",
     "text": [
      "gra\n",
      "gra\n"
     ]
    }
   ],
   "source": [
    "print(word[0:3])\n",
    "print(word[:3])"
   ]
  },
  {
   "cell_type": "markdown",
   "metadata": {},
   "source": [
    "#### 2. \n",
    "만약 오른쪽 범위를 비우면 문자열의 마지막 위치까지 문자열을 추출하게 된다."
   ]
  },
  {
   "cell_type": "code",
   "execution_count": 8,
   "metadata": {},
   "outputs": [
    {
     "name": "stdout",
     "output_type": "stream",
     "text": [
      "scratch\n",
      "scratch\n"
     ]
    }
   ],
   "source": [
    "print(sent[2:len(sent)])\n",
    "\n",
    "print(sent[2:])"
   ]
  },
  {
   "cell_type": "markdown",
   "metadata": {},
   "source": [
    "#### 3. \n",
    "양쪽을 모두 비우면 전체 문자열을 추출한다."
   ]
  },
  {
   "cell_type": "code",
   "execution_count": 9,
   "metadata": {},
   "outputs": [
    {
     "name": "stdout",
     "output_type": "stream",
     "text": [
      "a scratch\n"
     ]
    }
   ],
   "source": [
    "print(sent[ : ])\n"
   ]
  },
  {
   "cell_type": "markdown",
   "metadata": {},
   "source": [
    "#### 4. \n",
    "만약 문자열을 일정한 간격으로 건너뛰며 추출해야 한다면 콜론을 하나 더 추가 하여 추출 간격을 지정하면 된다. 오른쪽은 전체 문자열을 추출하되 다음 추출 문자는 자신을 포함하여 거리가 2인 인덱스의 문자를 추출한 것이다."
   ]
  },
  {
   "cell_type": "code",
   "execution_count": 10,
   "metadata": {},
   "outputs": [
    {
     "name": "stdout",
     "output_type": "stream",
     "text": [
      "asrth\n"
     ]
    }
   ],
   "source": [
    "print(sent[::2])"
   ]
  },
  {
   "cell_type": "markdown",
   "metadata": {},
   "source": [
    "## 9-2 문자열 메서드\n",
    "\n",
    "지금까지 인덱스 슬라이싱으로 문자열을 추출하는 방법을 알아보았다. 그런데 문자열이 너무 길어서 내가 원하는 문자가 몇 번째 인덱스에 잇는지 파악하기 어렵거나 문자열에 포함된 소문자를 모두 대문자로 바꾸고 싶다면 어떻게 해야 할까? 이런 경우에는 문자열 메서드를 사용하면 된다. 자주 사용하는 문자열 메서드와 간단한 실습 코드는 다음 표를 확인해보자. \n",
    "\n",
    "#### 문자열 메서드\n",
    "\n",
    "|메서드|설명|\n",
    "|:-:|:-:|\n",
    "|capitalize|첫 문자를 대문자로 변환|\n",
    "|count|문자열의 개수를 반환|\n",
    "|startswith|문자열이 특정 문자로 시작하면 참|\n",
    "|endswith|문자열이 특정 문자로 끝나면 참|\n",
    "|find|찾을 문자열의 첫 번째 인덱스를 반환. 실패시 -1 반환|\n",
    "|index|find 메서드와 같은 역할을 수행하지만 실패시 ValueError를 반환|\n",
    "|isalpha|모든 문자가 알파벳이면 참|\n",
    "|isdecimal|모든 문자가 숫자면 참|\n",
    "|isalnum|모든 문자가 알파벳이거나 숫자면 참|\n",
    "|lower|모든 문자를 소문자로 변환|\n",
    "|upper|모든 문자를 대문자로 변환|\n",
    "|replace|문자열의 문자를 다른 문자로 교체 |\n",
    "|strip|문자열의 맨 앞과 맨 뒤에 잇는 빈 칸을 제거|\n",
    "|split|구분자를 지정하여 문자열을 나누고, 나눈 값들의 리스트를 반환|\n",
    "|partition|split 메서드와 비슷한 역할을 수행하지만 구분자도 반환|\n",
    "|center|지정한 너비로 문자열을 늘이고 문자열을 가운데 정렬|\n",
    "|zfill|문자열의 빈 칸을 '0'으로 채운다.|"
   ]
  },
  {
   "cell_type": "markdown",
   "metadata": {},
   "source": [
    "#### 파이썬 문자열 메서드 - 실습 코드"
   ]
  },
  {
   "cell_type": "code",
   "execution_count": 11,
   "metadata": {},
   "outputs": [
    {
     "name": "stdout",
     "output_type": "stream",
     "text": [
      "Black knight\n"
     ]
    }
   ],
   "source": [
    "print(\"black Knight\".capitalize())"
   ]
  },
  {
   "cell_type": "code",
   "execution_count": 12,
   "metadata": {},
   "outputs": [
    {
     "data": {
      "text/plain": [
       "2"
      ]
     },
     "execution_count": 12,
     "metadata": {},
     "output_type": "execute_result"
    }
   ],
   "source": [
    "\"It's just a flesh wound!\".count('u')"
   ]
  },
  {
   "cell_type": "code",
   "execution_count": 14,
   "metadata": {},
   "outputs": [
    {
     "data": {
      "text/plain": [
       "True"
      ]
     },
     "execution_count": 14,
     "metadata": {},
     "output_type": "execute_result"
    }
   ],
   "source": [
    "\"Halt! Who goes there!\".startswith('Halt')"
   ]
  },
  {
   "cell_type": "code",
   "execution_count": 15,
   "metadata": {},
   "outputs": [
    {
     "data": {
      "text/plain": [
       "True"
      ]
     },
     "execution_count": 15,
     "metadata": {},
     "output_type": "execute_result"
    }
   ],
   "source": [
    "\"coconut\".endswith(\"nut\")"
   ]
  },
  {
   "cell_type": "code",
   "execution_count": 16,
   "metadata": {},
   "outputs": [
    {
     "data": {
      "text/plain": [
       "6"
      ]
     },
     "execution_count": 16,
     "metadata": {},
     "output_type": "execute_result"
    }
   ],
   "source": [
    "\"It's just a flesh wound!\".find('u')"
   ]
  },
  {
   "cell_type": "code",
   "execution_count": 20,
   "metadata": {},
   "outputs": [
    {
     "ename": "ValueError",
     "evalue": "substring not found",
     "output_type": "error",
     "traceback": [
      "\u001b[0;31m---------------------------------------------------------------------------\u001b[0m",
      "\u001b[0;31mValueError\u001b[0m                                Traceback (most recent call last)",
      "\u001b[0;32m<ipython-input-20-1e9e0bfd509f>\u001b[0m in \u001b[0;36m<module>\u001b[0;34m\u001b[0m\n\u001b[0;32m----> 1\u001b[0;31m \u001b[0;34m\"It's just a flesh wound!\"\u001b[0m\u001b[0;34m.\u001b[0m\u001b[0mindex\u001b[0m\u001b[0;34m(\u001b[0m\u001b[0;34m'scratch'\u001b[0m\u001b[0;34m)\u001b[0m\u001b[0;34m\u001b[0m\u001b[0;34m\u001b[0m\u001b[0m\n\u001b[0m",
      "\u001b[0;31mValueError\u001b[0m: substring not found"
     ]
    }
   ],
   "source": [
    "\"It's just a flesh wound!\".index('scratch')"
   ]
  },
  {
   "cell_type": "code",
   "execution_count": 21,
   "metadata": {},
   "outputs": [
    {
     "data": {
      "text/plain": [
       "False"
      ]
     },
     "execution_count": 21,
     "metadata": {},
     "output_type": "execute_result"
    }
   ],
   "source": [
    "\"old woman\".isalpha()"
   ]
  },
  {
   "cell_type": "code",
   "execution_count": 22,
   "metadata": {},
   "outputs": [
    {
     "data": {
      "text/plain": [
       "True"
      ]
     },
     "execution_count": 22,
     "metadata": {},
     "output_type": "execute_result"
    }
   ],
   "source": [
    "\"37\".isdecimal()"
   ]
  },
  {
   "cell_type": "code",
   "execution_count": 23,
   "metadata": {},
   "outputs": [
    {
     "data": {
      "text/plain": [
       "False"
      ]
     },
     "execution_count": 23,
     "metadata": {},
     "output_type": "execute_result"
    }
   ],
   "source": [
    "\"I'm 37\".isalnum()"
   ]
  },
  {
   "cell_type": "code",
   "execution_count": 24,
   "metadata": {},
   "outputs": [
    {
     "data": {
      "text/plain": [
       "'black knight'"
      ]
     },
     "execution_count": 24,
     "metadata": {},
     "output_type": "execute_result"
    }
   ],
   "source": [
    "\"Black Knight\".lower()"
   ]
  },
  {
   "cell_type": "code",
   "execution_count": 25,
   "metadata": {},
   "outputs": [
    {
     "data": {
      "text/plain": [
       "'BLACK KNIGHT'"
      ]
     },
     "execution_count": 25,
     "metadata": {},
     "output_type": "execute_result"
    }
   ],
   "source": [
    "\"Black Knight\".upper()"
   ]
  },
  {
   "cell_type": "code",
   "execution_count": 27,
   "metadata": {},
   "outputs": [
    {
     "data": {
      "text/plain": [
       "'scratch!'"
      ]
     },
     "execution_count": 27,
     "metadata": {},
     "output_type": "execute_result"
    }
   ],
   "source": [
    "\"flesh wound!\".replace('flesh wound', 'scratch')"
   ]
  },
  {
   "cell_type": "code",
   "execution_count": 28,
   "metadata": {},
   "outputs": [
    {
     "data": {
      "text/plain": [
       "\"I'm not dead.\""
      ]
     },
     "execution_count": 28,
     "metadata": {},
     "output_type": "execute_result"
    }
   ],
   "source": [
    "\"I'm not dead.\".strip()"
   ]
  },
  {
   "cell_type": "code",
   "execution_count": 29,
   "metadata": {},
   "outputs": [
    {
     "data": {
      "text/plain": [
       "['NI!', 'NI!', 'NI!', 'ni!']"
      ]
     },
     "execution_count": 29,
     "metadata": {},
     "output_type": "execute_result"
    }
   ],
   "source": [
    "\"NI! NI! NI! ni!\".split(sep = \" \")"
   ]
  },
  {
   "cell_type": "code",
   "execution_count": 30,
   "metadata": {},
   "outputs": [
    {
     "data": {
      "text/plain": [
       "('3', ',', '4')"
      ]
     },
     "execution_count": 30,
     "metadata": {},
     "output_type": "execute_result"
    }
   ],
   "source": [
    "\"3,4\".partition(\",\")"
   ]
  },
  {
   "cell_type": "code",
   "execution_count": 31,
   "metadata": {},
   "outputs": [
    {
     "data": {
      "text/plain": [
       "'   nine   '"
      ]
     },
     "execution_count": 31,
     "metadata": {},
     "output_type": "execute_result"
    }
   ],
   "source": [
    "\"nine\".center(10)"
   ]
  },
  {
   "cell_type": "code",
   "execution_count": 40,
   "metadata": {},
   "outputs": [
    {
     "data": {
      "text/plain": [
       "'00009'"
      ]
     },
     "execution_count": 40,
     "metadata": {},
     "output_type": "execute_result"
    }
   ],
   "source": [
    "\"9\".zfill(5)"
   ]
  },
  {
   "cell_type": "markdown",
   "metadata": {},
   "source": [
    "### join, splitlines, replace 메서드 실습하기 \n",
    "\n",
    "#### 1. join 메서드\n",
    "\n",
    "join 메서드는 문자열을 연결하여 새로운 문자열을 반환하는 메서드이다. 다음은 분리된 좌표 데이터를 합친 것이다. 이때 join 메서드 앞에 문자를 지정하면 해당 문자를 단어 사이에 넣어 연결해 주면 된다."
   ]
  },
  {
   "cell_type": "code",
   "execution_count": 41,
   "metadata": {},
   "outputs": [
    {
     "data": {
      "text/plain": [
       "'40 46\\' 52.837\" N 73 58\\' 26.302\" W'"
      ]
     },
     "execution_count": 41,
     "metadata": {},
     "output_type": "execute_result"
    }
   ],
   "source": [
    "d1 = '40'\n",
    "m1 = \"46'\"\n",
    "s1 = '52.837\"'\n",
    "u1 = 'N'\n",
    "\n",
    "d2 = '73'\n",
    "m2 = \"58'\"\n",
    "s2 = '26.302\"'\n",
    "u2 = 'W'\n",
    "\n",
    "coords = ' '.join([d1, m1, s1, u1, d2, m2, s2, u2])\n",
    "\n",
    "coords"
   ]
  },
  {
   "cell_type": "markdown",
   "metadata": {},
   "source": [
    "#### 2. splitlines 메서드\n",
    "\n",
    "이번에는 splitlines 메서드에 대해 알아보자. splitlines 메서드는 여러 행을 가진 문자열을 분리한 다음 리스트로 반환 한다. multi_str에 저장된 문자열을 splitlines 메서드로 분리하면 다음과 같이 변환된다."
   ]
  },
  {
   "cell_type": "code",
   "execution_count": 43,
   "metadata": {},
   "outputs": [
    {
     "name": "stdout",
     "output_type": "stream",
     "text": [
      "Guard: What? Ridden on a horse?\n",
      "King arthur: Yes!\n",
      "Guard: You're using coconuts!\n",
      "King Arthur: What?\n",
      "Guard: You've got ... coconut[s] and you're bangin' ''em together/\n",
      "\n",
      "['Guard: What? Ridden on a horse?', 'King arthur: Yes!', \"Guard: You're using coconuts!\", 'King Arthur: What?', \"Guard: You've got ... coconut[s] and you're bangin' ''em together/\"]\n"
     ]
    }
   ],
   "source": [
    "multi_str = \"\"\"Guard: What? Ridden on a horse?\n",
    "King arthur: Yes!\n",
    "Guard: You're using coconuts!\n",
    "King Arthur: What?\n",
    "Guard: You've got ... coconut[s] and you're bangin' ''em together/\n",
    "\"\"\"\n",
    "\n",
    "print(multi_str)\n",
    "\n",
    "multi_str_split = multi_str.splitlines()\n",
    "print(multi_str_split)"
   ]
  },
  {
   "cell_type": "markdown",
   "metadata": {},
   "source": [
    "#### 3. \n",
    "인덱스 슬라이싱을 응용하면 특정 문자열만 가져올 수도 있다. 다음은 Guard의 대사만 가져온 것"
   ]
  },
  {
   "cell_type": "code",
   "execution_count": 44,
   "metadata": {},
   "outputs": [
    {
     "name": "stdout",
     "output_type": "stream",
     "text": [
      "['Guard: What? Ridden on a horse?', \"Guard: You're using coconuts!\", \"Guard: You've got ... coconut[s] and you're bangin' ''em together/\"]\n"
     ]
    }
   ],
   "source": [
    "guard = multi_str_split[::2]\n",
    "print(guard)"
   ]
  },
  {
   "cell_type": "markdown",
   "metadata": {},
   "source": [
    "#### 4. replace 메서드\n",
    "\n",
    "만약 Guard의 대사에서 'Guard:'라는 문자열을 빼고 싶다면 replace 메서드를 사용하자."
   ]
  },
  {
   "cell_type": "code",
   "execution_count": 45,
   "metadata": {},
   "outputs": [
    {
     "name": "stdout",
     "output_type": "stream",
     "text": [
      "['What? Ridden on a horse?', \"You're using coconuts!\", \"You've got ... coconut[s] and you're bangin' ''em together/\"]\n"
     ]
    }
   ],
   "source": [
    "guard = multi_str.replace(\"Guard: \", \"\").splitlines()[::2]\n",
    "print(guard)"
   ]
  },
  {
   "cell_type": "markdown",
   "metadata": {},
   "source": [
    "## 9-3 문자열 포메팅 \n",
    "\n",
    "### 문자열 포메팅 하기\n",
    "\n",
    "문자열 포메팅은 문자열을 편리하게 출력할 수 있게 해주는 기능이다. 예를 들어 I can swim, I can fly, I can run과 같은 문자열은 I can이라는 문자열에 swim, run, fly와 같은 단어만 바꿔 넣어 출력 하는 것이 더 편리 하다. 즉, 문자열 포메팅이란 출력할 문자열의 형식을 지정하거나 변수를 조합하여 출력하는 방법이다. \n",
    "\n",
    "#### 1. \n",
    "다음과 같이 단어를 삽입할 위치를 {}로 지정하고 format 메서드에 원하는 단어를 전달하면 {}의 위치에 전달한 단어를 삽입해 출력한다. 이때 {}를 플레이스 홀더라고 부른다."
   ]
  },
  {
   "cell_type": "code",
   "execution_count": 47,
   "metadata": {},
   "outputs": [
    {
     "name": "stdout",
     "output_type": "stream",
     "text": [
      "It's just a flesh wound!\n",
      "It's just a scratch!\n"
     ]
    }
   ],
   "source": [
    "var = 'flesh wound'\n",
    "s = \"It's just a {}!\"\n",
    "\n",
    "print(s.format(var))\n",
    "\n",
    "print(s.format('scratch'))"
   ]
  },
  {
   "cell_type": "markdown",
   "metadata": {},
   "source": [
    "#### 2. \n",
    "플레이스 홀더는 여러 번 사용해도 된다. 하지만 여러 단어를 전달할 때는 어떻게 해야 할까? format 메서드에 여러 단어를 전달하려면 인덱스 개념을 응용하면 된다. 다음은 1개의 단어만 사용한다. 따라서 인덱스를 0으로 지정한 플레이스 홀더를 사용한다."
   ]
  },
  {
   "cell_type": "code",
   "execution_count": 2,
   "metadata": {},
   "outputs": [
    {
     "name": "stdout",
     "output_type": "stream",
     "text": [
      "Black Kinight: 'Tis but a scratch.\n",
      "King Arthur: A scratch? Your arm's off!\n",
      "\n"
     ]
    }
   ],
   "source": [
    "s = \"\"\"Black Kinight: 'Tis but a {0}.\n",
    "King Arthur: A {0}? Your arm's off!\n",
    "\"\"\"\n",
    "\n",
    "print(s.format('scratch'))\n"
   ]
  },
  {
   "cell_type": "markdown",
   "metadata": {},
   "source": [
    "#### 3. \n",
    "\n",
    "플레이스 홀더에는 변수를 지정해도 된다. 단, format 메서드에 전달하는 문자열도 변수에 담아 전달해야 한다. "
   ]
  },
  {
   "cell_type": "code",
   "execution_count": 3,
   "metadata": {},
   "outputs": [
    {
     "name": "stdout",
     "output_type": "stream",
     "text": [
      "Hayden Planentarium Coordinates: 40.7815 N, 73.9733 W\n"
     ]
    }
   ],
   "source": [
    "s = 'Hayden Planentarium Coordinates: {lat}, {lon}'\n",
    "print(s.format(lat = '40.7815 N', lon = '73.9733 W'))"
   ]
  },
  {
   "cell_type": "markdown",
   "metadata": {},
   "source": [
    "### 숫자 데이터 포메팅하기 \n",
    "\n",
    "이번에는 숫자 데이터 포매팅에 대해 알아보자. 숫자 데이터 포매팅ㄹ을 사용하면 실수의 소수점을 어디까지 출력할지 등을 설정할 수 있다.\n",
    "\n",
    "#### 1. \n",
    "숫자 데이터도 플레이스 홀더를 사용할 수 있다. "
   ]
  },
  {
   "cell_type": "code",
   "execution_count": 4,
   "metadata": {},
   "outputs": [
    {
     "name": "stdout",
     "output_type": "stream",
     "text": [
      "Some digits of pi: 3.14159265359\n"
     ]
    }
   ],
   "source": [
    "print('Some digits of pi: {}'.format(3.14159265359))"
   ]
  },
  {
   "cell_type": "markdown",
   "metadata": {},
   "source": [
    "#### 2. \n",
    "플레이스 홀더에:, 를 넣으면 쉼표를 넣어 숫자를 표현할 수도 있다."
   ]
  },
  {
   "cell_type": "code",
   "execution_count": 6,
   "metadata": {},
   "outputs": [
    {
     "name": "stdout",
     "output_type": "stream",
     "text": [
      "In 2005, Lu Chao of china recited 67,890 digits of pi\n"
     ]
    }
   ],
   "source": [
    "print(\"In 2005, Lu Chao of china recited {:,} digits of pi\".format(67890))"
   ]
  },
  {
   "cell_type": "markdown",
   "metadata": {},
   "source": [
    "#### 3. \n",
    "소수는 좀 더 다양한 방법으로 포매팅 가능하다. 다음은 플레이스 홀더에 0:.4, 0:.4%를 넣어 7/67890의 결과값을 포매팅 한 것이다. {0:.4}와 {0:.4% }에서 0은 format 메서드에서 전달받을 값(7/67890)의 인덱스를 의미하고 .4는 소수점 이하의 숫자를 4개까지 술력하겠다는 것을 의미한다. 이때 %를 사용하면 7/67890의 결과값을 백분율로 환산하여 출력한다. "
   ]
  },
  {
   "cell_type": "code",
   "execution_count": 7,
   "metadata": {},
   "outputs": [
    {
     "name": "stdout",
     "output_type": "stream",
     "text": [
      "I remember 0.0001031 or 0.0103% of what LuChao recited\n"
     ]
    }
   ],
   "source": [
    "print(\"I remember {0:.4} or {0:.4%} of what LuChao recited\".format(7/67890))"
   ]
  },
  {
   "cell_type": "markdown",
   "metadata": {},
   "source": [
    "#### 4. \n",
    "만약 사용자의 아이디가 5자리로 숫자로 표현되어야 한다면 42와 같은 2자리의 값은 00042로 출력해야 한다. 다음은 format의 0번째 값을 5자리의 수로 표현하되 빈 칸을 0으로 채워 출력한 것이다. "
   ]
  },
  {
   "cell_type": "markdown",
   "metadata": {},
   "source": [
    "### % 연산자로 포매팅하기\n",
    "\n",
    "지금까지는 플레이스 홀더를 이용하여 여러 가지 포매팅을 해보았다. 이번에는 % 연산자로 포매팅을 실습해 보자,\n",
    "\n",
    "#### 1. \n",
    "만약 삽입할 값이 10진수라면 값을 삽입할 위치에 %d라고 입력해야 한다. 그런 다음 % 연산자를 이용하여 삽입할 값(7)을 지정하여 출력한다. "
   ]
  },
  {
   "cell_type": "code",
   "execution_count": 8,
   "metadata": {},
   "outputs": [
    {
     "name": "stdout",
     "output_type": "stream",
     "text": [
      "I only know 7 digits of pi\n"
     ]
    }
   ],
   "source": [
    "s = 'I only know %d digits of pi' % 7\n",
    "print(s)"
   ]
  },
  {
   "cell_type": "markdown",
   "metadata": {},
   "source": [
    "#### 2. \n",
    "만약 삽입할 값이 문자열이라면 값을 삽입할 위치에 %s라고 입력해야 한다. 이때 %와 s사이에 소괄호를 사용하여 변수를 지정한다."
   ]
  },
  {
   "cell_type": "code",
   "execution_count": 9,
   "metadata": {},
   "outputs": [
    {
     "name": "stdout",
     "output_type": "stream",
     "text": [
      "Some digits of e: 2.72\n"
     ]
    }
   ],
   "source": [
    "print('Some digits of %(cont)s: %(value).2f' % {'cont': 'e', 'value': 2.718})"
   ]
  },
  {
   "cell_type": "markdown",
   "metadata": {},
   "source": [
    "### f-strings 포매팅 사용\n",
    "f-strings 포매팅은 파이썬 3.6버전에서 새로 도입한 포매팅이다. f-strings 포매팅의 사용방법은 format 메서드의 사용 방법과 동일하다. 하지만 문자열 앞에 f를 붙인다는 점이다. f-strings포매팅은 읽기 쉬울 뿐만 아니라 문자열을 빠르게 처리한다는 장점이 있다. 다음을 보자."
   ]
  },
  {
   "cell_type": "code",
   "execution_count": 11,
   "metadata": {},
   "outputs": [
    {
     "name": "stdout",
     "output_type": "stream",
     "text": [
      "It's just a flesh wound!\n",
      "Hayen Planetarium Coordinates: 40.7815 N, 73.9733 W\n"
     ]
    }
   ],
   "source": [
    "var = 'flesh wound'\n",
    "s = f\"It's just a {var}!\"\n",
    "\n",
    "print(s)\n",
    "\n",
    "lat = '40.7815 N'\n",
    "lon = '73.9733 W'\n",
    "\n",
    "s = f'Hayen Planetarium Coordinates: {lat}, {lon}'\n",
    "\n",
    "print(s)"
   ]
  },
  {
   "cell_type": "markdown",
   "metadata": {},
   "source": [
    "## 9-4 정규식으로 문자열 처리에 날개 달기 \n",
    "\n",
    "### 정규식이란? \n",
    "\n",
    "수만 개의 문자열 중에서 내가 원하는 패턴의 문자열만 추출하는 방법을 알아보자. find 메서드를 사용해도 좋지만 정규표현식을 사용하면 더 편리하다. \n",
    "\n",
    "### 정규식 표현 - 문법, 특수문자 \n",
    "\n",
    "정규식 표현에서 사용되는 문법과 특수문자를 다음과 같이 표로 정리 해두 었다. 정규식을 사용하려면 다음 표를 참고하여 찾고자 하는 문자열의 정규식 패턴들 만들어야 한다. \n",
    "\n",
    "### 정규식 표현 - 메서드\n",
    "다음은 정규식 메서드이다 정규식 메서드는 정규식 패턴을 사용하지 않아도 메서드를 호출하는 방법으로 원하는 패턴의 문자열을 찾을 수 있도록 해준다.\n",
    "\n",
    " - search: 첫 번째로 찾은 패턴의 양 끝 인덱스를 반환\n",
    " - match: 문자열의 처음붕터 검색하여 찾아낸 패턴의 양 끝 인덱스를 반환 \n",
    " - fullmatch: 전체 문자열이 일치하는지 검사\n",
    " - split: 지정한 패턴으로 잘라낸 문자여을 리스트로 반환 \n",
    " - findall: 지정한 패턴을 찾아 리스트로 반환\n",
    " - finditer: findall 메서드와 기능은 동일하지만 iterator를 반환\n",
    " - sub: 첫 번째로 전달한 패턴을 두 번째 인자로 전달한 값으로 교체\n",
    " \n",
    " ### 정규식으로 전화번호 패턴 찾기 \n",
    " \n",
    " 전화번호와 같은 단순한 데이터도 복잡하고 다양한 정규식이 필요하다. 다음을 보자. \n",
    " \n",
    " #### 1. \n",
    " 다음과 같이 re 모듈과 테스트용 문자열을 준비 한다. "
   ]
  },
  {
   "cell_type": "code",
   "execution_count": 17,
   "metadata": {},
   "outputs": [],
   "source": [
    "import re\n",
    "\n",
    "tele_num = '1234567890'"
   ]
  },
  {
   "cell_type": "markdown",
   "metadata": {},
   "source": [
    "#### 2. \n",
    "match 메서드를 사용하여 길이가 10인 숫자를 확인해 보자. pattern 인자에는 10개의 숫자를 의미하는 10개의 \\d를, string에는 테스트용 문자열인 tele_num을 전달했다. 만약 패턴을 찾으면 Match 오브젝트를 반환한다. Match 오브젝트를 출력하면 span에는 찾은 패턴의 인덱스가, match에는 찾은 패턴의 문자열이 있는 것을 확인할 수 있다. "
   ]
  },
  {
   "cell_type": "code",
   "execution_count": 19,
   "metadata": {},
   "outputs": [
    {
     "name": "stdout",
     "output_type": "stream",
     "text": [
      "<class '_sre.SRE_Match'>\n",
      "<_sre.SRE_Match object; span=(0, 10), match='1234567890'>\n"
     ]
    }
   ],
   "source": [
    "m = re.match(pattern='\\d\\d\\d\\d\\d\\d\\d\\d\\d\\d', string = tele_num)\n",
    "print(type(m))\n",
    "\n",
    "print(m)"
   ]
  },
  {
   "cell_type": "markdown",
   "metadata": {},
   "source": [
    "#### 3. \n",
    "이때 bool 메서드에 m을 전달하면 True나 False를 얻을 수 있다. 즉, match 메서드가 반환한 Match 오브젝트는 bool 메서드로, True, False를 판단할 수 있다. "
   ]
  },
  {
   "cell_type": "code",
   "execution_count": 20,
   "metadata": {},
   "outputs": [
    {
     "name": "stdout",
     "output_type": "stream",
     "text": [
      "True\n",
      "match\n"
     ]
    }
   ],
   "source": [
    "print(bool(m))\n",
    "\n",
    "if m:\n",
    "    print('match')\n",
    "else:\n",
    "    print('no match')"
   ]
  },
  {
   "cell_type": "markdown",
   "metadata": {},
   "source": [
    "#### 4. \n",
    "Match 오브젝트에는 찾아낸 패턴의 정보를 확인할 수 있는 다양한 메서드가 있다. start와 end 메서드는 첫 번째와 마지막 인덱스를 반환한다. span 메서드는 찾은 패턴의 첫 번째와 마지막 인덱스를 한 번에 반환한다. group 메서드는 찾아낸 패턴을 반환 한다. "
   ]
  },
  {
   "cell_type": "code",
   "execution_count": 21,
   "metadata": {},
   "outputs": [
    {
     "name": "stdout",
     "output_type": "stream",
     "text": [
      "0\n",
      "10\n",
      "(0, 10)\n",
      "1234567890\n"
     ]
    }
   ],
   "source": [
    "print(m.start())\n",
    "\n",
    "print(m.end())\n",
    "\n",
    "print(m.span())\n",
    "\n",
    "print(m.group())"
   ]
  },
  {
   "cell_type": "markdown",
   "metadata": {},
   "source": [
    "#### 5. \n",
    "그런데 전화번호를 입력하는 방법은 1234567890이 아니라 123-456-7890같은 형식을 사용하게 된다. 다음은 이와 같은 패튼을 검사 해보자. "
   ]
  },
  {
   "cell_type": "code",
   "execution_count": 24,
   "metadata": {},
   "outputs": [
    {
     "name": "stdout",
     "output_type": "stream",
     "text": [
      "None\n",
      "no match\n"
     ]
    }
   ],
   "source": [
    "tele_num_spaces = '123 456 7890'\n",
    "m = re.match(pattern = '\\d{10}', string = tele_num_spaces)\n",
    "\n",
    "print(m)\n",
    "\n",
    "if m:\n",
    "    print('match')\n",
    "else:\n",
    "    print('no match')"
   ]
  },
  {
   "cell_type": "markdown",
   "metadata": {},
   "source": [
    "#### 6. \n",
    "위의 문제를 해결하려면 정규식을 다시 작성해야 한다. 다음과 같이 빈 칸을 의미하는 정규식 \\s?를 넣어 패턴을 다시 만들자."
   ]
  },
  {
   "cell_type": "code",
   "execution_count": 25,
   "metadata": {},
   "outputs": [
    {
     "name": "stdout",
     "output_type": "stream",
     "text": [
      "<_sre.SRE_Match object; span=(0, 12), match='123 456 7890'>\n"
     ]
    }
   ],
   "source": [
    "p = '\\d{3}\\s?\\d{3}\\s?\\d{4}'\n",
    "m = re.match(pattern=p, string=tele_num_spaces)\n",
    "print(m)"
   ]
  },
  {
   "cell_type": "markdown",
   "metadata": {},
   "source": [
    "#### 7. \n",
    "지역 코드는 소괄호로 감싸고 나머지 번호는 반각 기호로 구분한 전화번호의 정규식은 다음과 같이 작성한다."
   ]
  },
  {
   "cell_type": "code",
   "execution_count": 28,
   "metadata": {},
   "outputs": [
    {
     "name": "stdout",
     "output_type": "stream",
     "text": [
      "<_sre.SRE_Match object; span=(0, 14), match='(123) 456-7890'>\n"
     ]
    }
   ],
   "source": [
    "tele_num_space_paren_dash = '(123) 456-7890'\n",
    "p = '\\(?\\d{3}\\)?\\s?\\d{3}\\s?-?\\d{4}'\n",
    "\n",
    "m = re.match(pattern = p, string = tele_num_space_paren_dash)\n",
    "\n",
    "print(m)"
   ]
  },
  {
   "cell_type": "markdown",
   "metadata": {},
   "source": [
    "#### 8. \n",
    "국가 코드까지 있는 전화번호의 정규식은 다음과 같이 작성 한다."
   ]
  },
  {
   "cell_type": "code",
   "execution_count": 31,
   "metadata": {},
   "outputs": [
    {
     "name": "stdout",
     "output_type": "stream",
     "text": [
      "<_sre.SRE_Match object; span=(0, 17), match='+1 (123) 456-7890'>\n"
     ]
    }
   ],
   "source": [
    "cnty_tele_num_space_paren_dash = '+1 (123) 456-7890'\n",
    "p = '\\+1\\s?\\(?\\d{3}\\)?\\s?\\d{3}\\s?-?\\d{4}'\n",
    "\n",
    "m = re.match(pattern=p, string=cnty_tele_num_space_paren_dash)\n",
    "print(m)"
   ]
  },
  {
   "cell_type": "markdown",
   "metadata": {},
   "source": [
    "### compile 메서드로 정규식 메서드 사용 \n",
    "\n",
    "패턴을 반복해서 사용하려면 compile 메서드로 패턴을 컴파일한 다음 변수에 저장하여 사용하면 된다. 다음은 앞에서 실습한 내용 중 하나를 compile 메서드로 처리한 것이다. 패턴을 컴파일한 다음 변수에 저장했기 때문에 정규식 메서드를 반복해서 사용할 수 있어 매우 편리하다."
   ]
  },
  {
   "cell_type": "code",
   "execution_count": 32,
   "metadata": {},
   "outputs": [
    {
     "name": "stdout",
     "output_type": "stream",
     "text": [
      "<_sre.SRE_Match object; span=(0, 10), match='1234567890'>\n"
     ]
    }
   ],
   "source": [
    "p = re.compile('\\d{10}')\n",
    "s = '1234567890'\n",
    "m = p.match(s)\n",
    "print(m)"
   ]
  },
  {
   "cell_type": "code",
   "execution_count": null,
   "metadata": {},
   "outputs": [],
   "source": []
  }
 ],
 "metadata": {
  "kernelspec": {
   "display_name": "Python 3",
   "language": "python",
   "name": "python3"
  },
  "language_info": {
   "codemirror_mode": {
    "name": "ipython",
    "version": 3
   },
   "file_extension": ".py",
   "mimetype": "text/x-python",
   "name": "python",
   "nbconvert_exporter": "python",
   "pygments_lexer": "ipython3",
   "version": "3.6.9"
  }
 },
 "nbformat": 4,
 "nbformat_minor": 4
}
