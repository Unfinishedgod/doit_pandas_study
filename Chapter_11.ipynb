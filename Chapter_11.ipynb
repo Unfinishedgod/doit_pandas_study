{
 "cells": [
  {
   "cell_type": "markdown",
   "metadata": {},
   "source": [
    "# Chapter 11 그룹연산\n",
    "\n",
    "판다스의 그룹 연산은 데이터를 집계하거나 변환하는 등의 작업을 한 번에 처리할 수 있는 강력한 기능이다. 보통 그룹 연산은 데이터를 '분할'하고 '반영'하고, '결합'하는 과정을 거치게 되는데, '분할'은 어떤 기준으로 데이터를 나누는 것이고, '반영'은 함수 등을 적용하여 데이터를 쳐리하는 것이다. 그리고 '결합'은 처리한 결과를 다시 함치는 것이다. 보통 이 과정을 하나로 묶어 '분할-반영-결합(Split - Apply - Combine)'이라고 한다. <br>\n",
    "판다스의 groupby 메서드는 SQL의 GROUP BY와 비슷하다는것을 점차 알게 될것이다. 사실 '분할-반영-결합'은 오래 전부터 분산 컴퓨팅 분야에서 빅데이터"
   ]
  }
 ],
 "metadata": {
  "kernelspec": {
   "display_name": "Python 3",
   "language": "python",
   "name": "python3"
  },
  "language_info": {
   "codemirror_mode": {
    "name": "ipython",
    "version": 3
   },
   "file_extension": ".py",
   "mimetype": "text/x-python",
   "name": "python",
   "nbconvert_exporter": "python",
   "pygments_lexer": "ipython3",
   "version": "3.6.9"
  }
 },
 "nbformat": 4,
 "nbformat_minor": 4
}
